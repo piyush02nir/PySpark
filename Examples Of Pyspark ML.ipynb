{
 "cells": [
  {
   "cell_type": "code",
   "execution_count": 1,
   "id": "bd4be134",
   "metadata": {},
   "outputs": [],
   "source": [
    "from pyspark.sql import SparkSession\n",
    "spark=SparkSession.builder.appName('Missing').getOrCreate()"
   ]
  },
  {
   "cell_type": "code",
   "execution_count": 9,
   "id": "e094dc5d",
   "metadata": {},
   "outputs": [
    {
     "name": "stdout",
     "output_type": "stream",
     "text": [
      "CSV file created: data.csv\n"
     ]
    }
   ],
   "source": [
    "import csv\n",
    "import random\n",
    "\n",
    "# Generate example data\n",
    "data = []\n",
    "for _ in range(100):\n",
    "    name = f\"Person{_}\"\n",
    "    age = random.randint(20, 60)\n",
    "    experience = random.randint(0, 10)\n",
    "    salary = random.randint(10000, 90000)\n",
    "    data.append([name, age, experience, salary])\n",
    "\n",
    "# Write data to a CSV file\n",
    "with open(\"data.csv\", mode=\"w\", newline=\"\", encoding=\"utf-8\") as file:\n",
    "    writer = csv.writer(file)\n",
    "    writer.writerow([\"name\", \"age\", \"experience\", \"salary\"])\n",
    "    writer.writerows(data)\n",
    "\n",
    "print(\"CSV file created: data.csv\")"
   ]
  },
  {
   "cell_type": "code",
   "execution_count": 10,
   "id": "ef84cd9e",
   "metadata": {},
   "outputs": [],
   "source": [
    "## Read The dataset\n",
    "training = spark.read.csv('data.csv',header=True,inferSchema=True)"
   ]
  },
  {
   "cell_type": "code",
   "execution_count": 11,
   "id": "ca6430d1",
   "metadata": {},
   "outputs": [
    {
     "name": "stdout",
     "output_type": "stream",
     "text": [
      "+--------+---+----------+------+\n",
      "|    name|age|experience|salary|\n",
      "+--------+---+----------+------+\n",
      "| Person0| 49|         0| 58422|\n",
      "| Person1| 48|         4| 37664|\n",
      "| Person2| 28|         4| 71499|\n",
      "| Person3| 46|         7| 63238|\n",
      "| Person4| 26|         6| 47200|\n",
      "| Person5| 59|        10| 20241|\n",
      "| Person6| 43|         0| 27733|\n",
      "| Person7| 56|         0| 62898|\n",
      "| Person8| 41|         6| 78750|\n",
      "| Person9| 31|         7| 72162|\n",
      "|Person10| 43|         0| 11687|\n",
      "|Person11| 50|         9| 27353|\n",
      "|Person12| 53|         3| 52929|\n",
      "|Person13| 44|         4| 65838|\n",
      "|Person14| 37|         5| 32714|\n",
      "|Person15| 28|         5| 41130|\n",
      "|Person16| 51|         3| 30307|\n",
      "|Person17| 54|         3| 23044|\n",
      "|Person18| 21|         7| 30662|\n",
      "|Person19| 43|         0| 14178|\n",
      "+--------+---+----------+------+\n",
      "only showing top 20 rows\n",
      "\n"
     ]
    }
   ],
   "source": [
    "training.show()"
   ]
  },
  {
   "cell_type": "code",
   "execution_count": 12,
   "id": "a2f9d0c0",
   "metadata": {},
   "outputs": [
    {
     "name": "stdout",
     "output_type": "stream",
     "text": [
      "root\n",
      " |-- name: string (nullable = true)\n",
      " |-- age: integer (nullable = true)\n",
      " |-- experience: integer (nullable = true)\n",
      " |-- salary: integer (nullable = true)\n",
      "\n"
     ]
    }
   ],
   "source": [
    "training.printSchema()"
   ]
  },
  {
   "cell_type": "code",
   "execution_count": 13,
   "id": "4903fbff",
   "metadata": {},
   "outputs": [
    {
     "data": {
      "text/plain": [
       "['name', 'age', 'experience', 'salary']"
      ]
     },
     "execution_count": 13,
     "metadata": {},
     "output_type": "execute_result"
    }
   ],
   "source": [
    "training.columns"
   ]
  },
  {
   "cell_type": "markdown",
   "id": "6c4e2eaa",
   "metadata": {},
   "source": [
    "[Age,Experience]----> new feature--->independent feature"
   ]
  },
  {
   "cell_type": "code",
   "execution_count": 18,
   "id": "dffd43cd",
   "metadata": {},
   "outputs": [],
   "source": [
    "from pyspark.ml.feature import VectorAssembler\n",
    "featureassembler=VectorAssembler(inputCols=[\"age\",\"experience\"],outputCol=\"Independent Features\")"
   ]
  },
  {
   "cell_type": "code",
   "execution_count": 19,
   "id": "fc917070",
   "metadata": {},
   "outputs": [],
   "source": [
    "output=featureassembler.transform(training)"
   ]
  },
  {
   "cell_type": "code",
   "execution_count": 21,
   "id": "ad0fe181",
   "metadata": {},
   "outputs": [
    {
     "name": "stdout",
     "output_type": "stream",
     "text": [
      "+--------+---+----------+------+--------------------+\n",
      "|    name|age|experience|salary|Independent Features|\n",
      "+--------+---+----------+------+--------------------+\n",
      "| Person0| 49|         0| 58422|          [49.0,0.0]|\n",
      "| Person1| 48|         4| 37664|          [48.0,4.0]|\n",
      "| Person2| 28|         4| 71499|          [28.0,4.0]|\n",
      "| Person3| 46|         7| 63238|          [46.0,7.0]|\n",
      "| Person4| 26|         6| 47200|          [26.0,6.0]|\n",
      "| Person5| 59|        10| 20241|         [59.0,10.0]|\n",
      "| Person6| 43|         0| 27733|          [43.0,0.0]|\n",
      "| Person7| 56|         0| 62898|          [56.0,0.0]|\n",
      "| Person8| 41|         6| 78750|          [41.0,6.0]|\n",
      "| Person9| 31|         7| 72162|          [31.0,7.0]|\n",
      "|Person10| 43|         0| 11687|          [43.0,0.0]|\n",
      "|Person11| 50|         9| 27353|          [50.0,9.0]|\n",
      "|Person12| 53|         3| 52929|          [53.0,3.0]|\n",
      "|Person13| 44|         4| 65838|          [44.0,4.0]|\n",
      "|Person14| 37|         5| 32714|          [37.0,5.0]|\n",
      "|Person15| 28|         5| 41130|          [28.0,5.0]|\n",
      "|Person16| 51|         3| 30307|          [51.0,3.0]|\n",
      "|Person17| 54|         3| 23044|          [54.0,3.0]|\n",
      "|Person18| 21|         7| 30662|          [21.0,7.0]|\n",
      "|Person19| 43|         0| 14178|          [43.0,0.0]|\n",
      "+--------+---+----------+------+--------------------+\n",
      "only showing top 20 rows\n",
      "\n"
     ]
    }
   ],
   "source": [
    "output.show()"
   ]
  },
  {
   "cell_type": "code",
   "execution_count": 22,
   "id": "8d1bfe75",
   "metadata": {},
   "outputs": [
    {
     "data": {
      "text/plain": [
       "['name', 'age', 'experience', 'salary', 'Independent Features']"
      ]
     },
     "execution_count": 22,
     "metadata": {},
     "output_type": "execute_result"
    }
   ],
   "source": [
    "output.columns"
   ]
  },
  {
   "cell_type": "code",
   "execution_count": 23,
   "id": "7ff0d1fa",
   "metadata": {},
   "outputs": [],
   "source": [
    "finalized_data=output.select(\"Independent Features\",\"Salary\")"
   ]
  },
  {
   "cell_type": "code",
   "execution_count": 24,
   "id": "406a6b69",
   "metadata": {},
   "outputs": [
    {
     "name": "stdout",
     "output_type": "stream",
     "text": [
      "+--------------------+------+\n",
      "|Independent Features|Salary|\n",
      "+--------------------+------+\n",
      "|          [49.0,0.0]| 58422|\n",
      "|          [48.0,4.0]| 37664|\n",
      "|          [28.0,4.0]| 71499|\n",
      "|          [46.0,7.0]| 63238|\n",
      "|          [26.0,6.0]| 47200|\n",
      "|         [59.0,10.0]| 20241|\n",
      "|          [43.0,0.0]| 27733|\n",
      "|          [56.0,0.0]| 62898|\n",
      "|          [41.0,6.0]| 78750|\n",
      "|          [31.0,7.0]| 72162|\n",
      "|          [43.0,0.0]| 11687|\n",
      "|          [50.0,9.0]| 27353|\n",
      "|          [53.0,3.0]| 52929|\n",
      "|          [44.0,4.0]| 65838|\n",
      "|          [37.0,5.0]| 32714|\n",
      "|          [28.0,5.0]| 41130|\n",
      "|          [51.0,3.0]| 30307|\n",
      "|          [54.0,3.0]| 23044|\n",
      "|          [21.0,7.0]| 30662|\n",
      "|          [43.0,0.0]| 14178|\n",
      "+--------------------+------+\n",
      "only showing top 20 rows\n",
      "\n"
     ]
    }
   ],
   "source": [
    "finalized_data.show()"
   ]
  },
  {
   "cell_type": "code",
   "execution_count": 25,
   "id": "f4596a04",
   "metadata": {},
   "outputs": [],
   "source": [
    "from pyspark.ml.regression import LinearRegression\n",
    "##train test split\n",
    "train_data,test_data=finalized_data.randomSplit([0.75,0.25])\n",
    "regressor=LinearRegression(featuresCol='Independent Features', labelCol='Salary')\n",
    "regressor=regressor.fit(train_data)"
   ]
  },
  {
   "cell_type": "code",
   "execution_count": 26,
   "id": "1a31e0b4",
   "metadata": {},
   "outputs": [
    {
     "data": {
      "text/plain": [
       "DenseVector([122.4927, 1606.1927])"
      ]
     },
     "execution_count": 26,
     "metadata": {},
     "output_type": "execute_result"
    }
   ],
   "source": [
    "### Coefficients\n",
    "regressor.coefficients"
   ]
  },
  {
   "cell_type": "code",
   "execution_count": 27,
   "id": "b9ab7aab",
   "metadata": {},
   "outputs": [
    {
     "data": {
      "text/plain": [
       "33979.01546240077"
      ]
     },
     "execution_count": 27,
     "metadata": {},
     "output_type": "execute_result"
    }
   ],
   "source": [
    "### Intercepts\n",
    "regressor.intercept"
   ]
  },
  {
   "cell_type": "code",
   "execution_count": 28,
   "id": "f7194861",
   "metadata": {},
   "outputs": [],
   "source": [
    "### Prediction\n",
    "pred_results=regressor.evaluate(test_data)"
   ]
  },
  {
   "cell_type": "code",
   "execution_count": 29,
   "id": "9b7f289b",
   "metadata": {},
   "outputs": [
    {
     "name": "stdout",
     "output_type": "stream",
     "text": [
      "+--------------------+------+------------------+\n",
      "|Independent Features|Salary|        prediction|\n",
      "+--------------------+------+------------------+\n",
      "|          [21.0,8.0]| 49214|49400.904455854245|\n",
      "|          [23.0,1.0]| 80693| 38402.54065576129|\n",
      "|          [26.0,1.0]| 31235|38770.018800916456|\n",
      "|         [27.0,10.0]| 80369|  53348.2462405064|\n",
      "|          [31.0,7.0]| 34620| 49019.63885920055|\n",
      "|         [32.0,10.0]| 27537| 53960.70981576502|\n",
      "|          [33.0,0.0]| 75323|  38021.2750591076|\n",
      "|          [34.0,3.0]| 41717| 42962.34601567206|\n",
      "|          [34.0,6.0]| 44768|  47780.9242571848|\n",
      "|          [36.0,9.0]| 36426| 52844.48792880099|\n",
      "|          [37.0,3.0]| 44890| 43329.82416082723|\n",
      "|          [39.0,6.0]| 56515| 48393.38783244341|\n",
      "|          [42.0,8.0]| 81710|51973.251471940406|\n",
      "|          [44.0,4.0]| 65838|45793.465913360196|\n",
      "|         [45.0,10.0]| 47788|  55553.1151114374|\n",
      "|          [46.0,2.0]| 79301| 42826.06584912181|\n",
      "|          [46.0,7.0]| 56626| 50857.02958497638|\n",
      "|          [47.0,3.0]| 32331|44554.751311344444|\n",
      "|          [48.0,4.0]| 37664| 46283.43677356708|\n",
      "|          [49.0,3.0]| 66326|44799.736741447894|\n",
      "+--------------------+------+------------------+\n",
      "only showing top 20 rows\n",
      "\n"
     ]
    }
   ],
   "source": [
    "pred_results.predictions.show()"
   ]
  },
  {
   "cell_type": "code",
   "execution_count": 30,
   "id": "2c14ccbc",
   "metadata": {},
   "outputs": [
    {
     "data": {
      "text/plain": [
       "(17845.925089951776, 499353818.58304757)"
      ]
     },
     "execution_count": 30,
     "metadata": {},
     "output_type": "execute_result"
    }
   ],
   "source": [
    "pred_results.meanAbsoluteError,pred_results.meanSquaredError"
   ]
  },
  {
   "cell_type": "code",
   "execution_count": null,
   "id": "75db4892",
   "metadata": {},
   "outputs": [],
   "source": []
  }
 ],
 "metadata": {
  "kernelspec": {
   "display_name": "Python 3 (ipykernel)",
   "language": "python",
   "name": "python3"
  },
  "language_info": {
   "codemirror_mode": {
    "name": "ipython",
    "version": 3
   },
   "file_extension": ".py",
   "mimetype": "text/x-python",
   "name": "python",
   "nbconvert_exporter": "python",
   "pygments_lexer": "ipython3",
   "version": "3.11.3"
  },
  "varInspector": {
   "cols": {
    "lenName": 16,
    "lenType": 16,
    "lenVar": 40
   },
   "kernels_config": {
    "python": {
     "delete_cmd_postfix": "",
     "delete_cmd_prefix": "del ",
     "library": "var_list.py",
     "varRefreshCmd": "print(var_dic_list())"
    },
    "r": {
     "delete_cmd_postfix": ") ",
     "delete_cmd_prefix": "rm(",
     "library": "var_list.r",
     "varRefreshCmd": "cat(var_dic_list()) "
    }
   },
   "types_to_exclude": [
    "module",
    "function",
    "builtin_function_or_method",
    "instance",
    "_Feature"
   ],
   "window_display": false
  }
 },
 "nbformat": 4,
 "nbformat_minor": 5
}
